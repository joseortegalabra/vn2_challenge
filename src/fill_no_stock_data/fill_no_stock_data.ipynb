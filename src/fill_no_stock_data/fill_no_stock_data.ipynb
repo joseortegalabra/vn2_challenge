{
 "cells": [
  {
   "cell_type": "markdown",
   "id": "08da4a31",
   "metadata": {},
   "source": [
    "### COMPLETAR DATOS DE VENTAS NULL POR NO STOCK\n",
    "Hay datos de venta que faltan por no haber stock.\n",
    "- Si en el real sobró stock, se sabe que esa es la demanda real para ese producto en esa fecha\n",
    "- PERO si no había stock, no se vendió nada y por lo tanto hay una demanda potencial perdida, en caso de que hubiera stock se hubiera vendido algo. \n",
    "\n",
    "SE HACE UN MODELO PARA COMPLETAR DICHO INFORMACIÓN FALTANTE. FILL NULL VALUES"
   ]
  },
  {
   "cell_type": "code",
   "execution_count": 1,
   "id": "0cb170a8",
   "metadata": {},
   "outputs": [],
   "source": [
    "import pandas as pd\n",
    "import numpy as np\n",
    "import seaborn as sns\n",
    "import matplotlib.pyplot as plt\n",
    "\n",
    "from utils.utils import read_input_data"
   ]
  },
  {
   "cell_type": "code",
   "execution_count": null,
   "id": "74284a6f",
   "metadata": {},
   "outputs": [],
   "source": []
  },
  {
   "cell_type": "code",
   "execution_count": null,
   "id": "f8cd9c66",
   "metadata": {},
   "outputs": [],
   "source": []
  },
  {
   "cell_type": "code",
   "execution_count": null,
   "id": "149ed411",
   "metadata": {},
   "outputs": [],
   "source": []
  },
  {
   "cell_type": "code",
   "execution_count": null,
   "id": "7bf2d9af",
   "metadata": {},
   "outputs": [],
   "source": []
  },
  {
   "cell_type": "code",
   "execution_count": null,
   "id": "f3a1bb6d",
   "metadata": {},
   "outputs": [],
   "source": []
  },
  {
   "cell_type": "code",
   "execution_count": null,
   "id": "d730e9ad",
   "metadata": {},
   "outputs": [],
   "source": []
  },
  {
   "cell_type": "code",
   "execution_count": null,
   "id": "015e3edc",
   "metadata": {},
   "outputs": [],
   "source": []
  }
 ],
 "metadata": {
  "kernelspec": {
   "display_name": "app-rFQoMEuo-py3.11",
   "language": "python",
   "name": "python3"
  },
  "language_info": {
   "codemirror_mode": {
    "name": "ipython",
    "version": 3
   },
   "file_extension": ".py",
   "mimetype": "text/x-python",
   "name": "python",
   "nbconvert_exporter": "python",
   "pygments_lexer": "ipython3",
   "version": "3.11.7"
  }
 },
 "nbformat": 4,
 "nbformat_minor": 5
}
